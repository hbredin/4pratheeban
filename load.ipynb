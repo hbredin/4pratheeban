{
 "cells": [
  {
   "cell_type": "code",
   "execution_count": 1,
   "metadata": {
    "collapsed": true
   },
   "outputs": [
    {
     "name": "stdout",
     "output_type": "stream",
     "text": [
      "Populating the interactive namespace from numpy and matplotlib\n"
     ]
    }
   ],
   "source": [
    "from __future__ import print_function\n",
    "%pylab inline"
   ]
  },
  {
   "cell_type": "markdown",
   "metadata": {},
   "source": [
    "# Initialize \"The Big Bang Theory\" dataset"
   ]
  },
  {
   "cell_type": "code",
   "execution_count": 13,
   "metadata": {
    "collapsed": true
   },
   "outputs": [
    {
     "name": "stdout",
     "output_type": "stream",
     "text": [
      "\n",
      "IN CASE YOU USE 'speaker' RESOURCES, PLEASE CONSIDER CITING:\n",
      "@inproceedings{Tapaswi2012\n",
      "    title = {{``Knock! Knock! Who is it?'' Probabilistic Person Identification in TV Series}},\n",
      "    author = {Makarand Tapaswi and Martin B\\\"{a}uml and Rainer Stiefelhagen},\n",
      "    booktitle = {IEEE Conference on Computer Vision and Pattern Recognition (CVPR)},\n",
      "    year = {2012},\n",
      "    month = {June},\n",
      "}\n",
      "\n",
      "\n",
      "IN CASE YOU USE 'outline' RESOURCES, PLEASE CONSIDER CITING:\n",
      "@misc{the-big-bang-theory.com,\n",
      "    title = {{The Big Bang Theory Wiki}},\n",
      "    howpublished = \\url{http://wiki.the-big-bang-theory.com/}\n",
      "}\n",
      "\n",
      "\n",
      "IN CASE YOU USE 'transcript' RESOURCES, PLEASE CONSIDER CITING:\n",
      "@misc{bigbangtrans,\n",
      "    title = {{big bang theory transcripts}},\n",
      "    howpublished = \\url{http://bigbangtrans.wordpress.com/}\n",
      "}\n",
      "\n",
      "\n",
      "IN CASE YOU USE 'transcript_www' RESOURCES, PLEASE CONSIDER CITING:\n",
      "@misc{bigbangtrans,\n",
      "    title = {{big bang theory transcripts}},\n",
      "    howpublished = \\url{http://bigbangtrans.wordpress.com/}\n",
      "}\n",
      "\n",
      "\n",
      "IN CASE YOU USE 'outline_www' RESOURCES, PLEASE CONSIDER CITING:\n",
      "@misc{the-big-bang-theory.com,\n",
      "    title = {{The Big Bang Theory Wiki}},\n",
      "    howpublished = \\url{http://wiki.the-big-bang-theory.com/}\n",
      "}\n",
      "\n"
     ]
    }
   ],
   "source": [
    "from tvd import TheBigBangTheory\n",
    "dataset = TheBigBangTheory('/Users/bredin/Corpora/tvd/')"
   ]
  },
  {
   "cell_type": "markdown",
   "metadata": {},
   "source": [
    "# First episode"
   ]
  },
  {
   "cell_type": "code",
   "execution_count": 3,
   "metadata": {
    "collapsed": false
   },
   "outputs": [
    {
     "data": {
      "text/plain": [
       "Episode(series='TheBigBangTheory', season=1, episode=1)"
      ]
     },
     "execution_count": 3,
     "metadata": {},
     "output_type": "execute_result"
    }
   ],
   "source": [
    "firstEpisode = dataset.episodes[0]\n",
    "firstEpisode"
   ]
  },
  {
   "cell_type": "markdown",
   "metadata": {},
   "source": [
    "# English subtitles"
   ]
  },
  {
   "cell_type": "code",
   "execution_count": 4,
   "metadata": {
    "collapsed": true
   },
   "outputs": [],
   "source": [
    "from pyannote.parser import SRTParser\n",
    "path = dataset.path_to_subtitles(firstEpisode, language='en')\n",
    "englishSubtitles = SRTParser(split=True, duration=True).read(path)()"
   ]
  },
  {
   "cell_type": "markdown",
   "metadata": {},
   "source": [
    "**`englishSubtitles`** is an instance of [`pyannote.core.Transcription`](https://github.com/pyannote/pyannote-core/blob/master/doc/pyannote.core.transcription.ipynb)"
   ]
  },
  {
   "cell_type": "markdown",
   "metadata": {},
   "source": [
    "It is basically a directed graph where nodes are instants and edges represent temporal intervals."
   ]
  },
  {
   "cell_type": "code",
   "execution_count": 5,
   "metadata": {
    "collapsed": false
   },
   "outputs": [
    {
     "name": "stdout",
     "output_type": "stream",
     "text": [
      "  -inf -->  1.240 : {}\n",
      " 1.240 -->  3.834 : {'subtitle': u'If a photon is directed through a plane with two slits in it...'}\n",
      " 3.834 -->  4.000 : {}\n",
      " 4.000 -->  5.149 : {'subtitle': u'...and either is observed...'}\n",
      " 5.149 -->  5.319 : {}\n",
      " 5.319 -->  7.549 : {'subtitle': u'...it will not go through both. If unobserved. it will.'}\n",
      " 7.549 -->  7.719 : {}\n",
      " 7.719 --> 11.109 : {'subtitle': u\"If it's observed after it's left the plane. but before it hits its target...\"}\n",
      "11.109 --> 11.279 : {}\n",
      "11.279 --> 13.481 : {'subtitle': u\"-...it will not've gone through both slits.\"}\n",
      "13.481 --> 13.839 : {'subtitle': u'Agreed.'}\n",
      "13.839 --> 13.999 : {}\n",
      "13.999 --> 15.068 : {'subtitle': u\"What's your point?\"}\n",
      "15.068 --> 15.239 : {}\n",
      "15.239 --> 18.072 : {'subtitle': u\"There's no point. I just think it's a good idea for a T-shirt.\"}\n",
      "18.072 --> 23.400 : {}\n",
      "23.400 --> 24.855 : {'subtitle': u'-Excuse me.'}\n",
      "24.855 --> 25.914 : {'subtitle': u'Hang on.'}\n",
      "25.914 --> 29.119 : {}\n"
     ]
    }
   ],
   "source": [
    "for startTime, endTime, data in englishSubtitles.ordered_edges_iter(data=True):\n",
    "    if endTime > 30:\n",
    "        break\n",
    "    print('{s:6.3f} --> {e:6.3f} : {d}'.format(s=startTime, e=endTime, d=data))"
   ]
  },
  {
   "cell_type": "markdown",
   "metadata": {},
   "source": [
    "# Manual transcript"
   ]
  },
  {
   "cell_type": "code",
   "execution_count": 6,
   "metadata": {
    "collapsed": true
   },
   "outputs": [],
   "source": [
    "transcript = dataset.get_resource('transcript', firstEpisode)"
   ]
  },
  {
   "cell_type": "markdown",
   "metadata": {},
   "source": [
    "**`transcript`** is also an instance of [`pyannote.core.Transcription`](https://github.com/pyannote/pyannote-core/blob/master/doc/pyannote.core.transcription.ipynb).\n",
    "\n",
    "However, exact timing is missing. Only \"floating\" instants are available."
   ]
  },
  {
   "cell_type": "code",
   "execution_count": 7,
   "metadata": {
    "collapsed": false
   },
   "outputs": [
    {
     "name": "stdout",
     "output_type": "stream",
     "text": [
      "\"C\" --> \"D\" SHELDON : So if a photon is directed through a plane with two slits in it and either slit is observed, it will not go through both slits. If it's unobserved it will, however, if it's observed after it's left the plane but before it hits its target, it will not have gone through both slits.\n",
      "\"E\" --> \"F\" LEONARD : Agreed, what's your point?\n",
      "\"G\" --> \"H\" SHELDON : There's no point, I just think it's a good idea for a tee-shirt.\n",
      "\"I\" --> \"J\" LEONARD : Excuse me?\n",
      "\"K\" --> \"L\" RECEPTIONIST : Hang on.\n"
     ]
    }
   ],
   "source": [
    "for startTime, endTime, data in transcript.ordered_edges_iter(data=True):\n",
    "    if endTime > 'M':\n",
    "        break\n",
    "    if 'speech' not in data:\n",
    "        continue\n",
    "    print('\"{s}\" --> \"{e}\" {character} : {line}'.format(s=startTime, e=endTime, \n",
    "                                                        character=data.get('speaker', ''), \n",
    "                                                        line=data.get('speech', '')))"
   ]
  },
  {
   "cell_type": "markdown",
   "metadata": {},
   "source": [
    "# Audio features extraction"
   ]
  },
  {
   "cell_type": "code",
   "execution_count": 8,
   "metadata": {
    "collapsed": false
   },
   "outputs": [],
   "source": [
    "pathToEnglishTrack = dataset.path_to_audio(firstEpisode, language='en')"
   ]
  },
  {
   "cell_type": "code",
   "execution_count": 11,
   "metadata": {
    "collapsed": false,
    "scrolled": true
   },
   "outputs": [],
   "source": [
    "import librosa\n",
    "y, sr = librosa.load(pathToEnglishTrack, sr=None, mono=True)\n",
    "mfcc = librosa.feature.mfcc(y=y, sr=sr, n_mfcc=13)"
   ]
  },
  {
   "cell_type": "code",
   "execution_count": 12,
   "metadata": {
    "collapsed": false
   },
   "outputs": [
    {
     "data": {
      "image/png": "[encoded data removed]",
      "text/plain": [
       "<matplotlib.figure.Figure at 0x10ed1f450>"
      ]
     },
     "metadata": {},
     "output_type": "display_data"
    }
   ],
   "source": [
    "librosa.display.specshow(mfcc, x_axis='time')\n",
    "colorbar(); title('MFCC'); tight_layout();"
   ]
  }
 ],
 "metadata": {
  "kernelspec": {
   "display_name": "Python 2",
   "language": "python",
   "name": "python2"
  },
  "language_info": {
   "codemirror_mode": {
    "name": "ipython",
    "version": 2
   },
   "file_extension": ".py",
   "mimetype": "text/x-python",
   "name": "python",
   "nbconvert_exporter": "python",
   "pygments_lexer": "ipython2",
   "version": "2.7.10"
  }
 },
 "nbformat": 4,
 "nbformat_minor": 0
}
